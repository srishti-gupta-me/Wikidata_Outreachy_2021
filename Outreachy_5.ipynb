{
 "cells": [
  {
   "cell_type": "code",
   "execution_count": 2,
   "metadata": {},
   "outputs": [],
   "source": [
    "import requests\n",
    "from pywikibot.data import api\n",
    "import pywikibot\n",
    "import pprint\n",
    "import re \n"
   ]
  },
  {
   "cell_type": "code",
   "execution_count": 3,
   "metadata": {},
   "outputs": [],
   "source": [
    "def prettyPrint(variable):\n",
    "    pp = pprint.PrettyPrinter(indent=4)\n",
    "    pp.pprint(variable)"
   ]
  },
  {
   "cell_type": "code",
   "execution_count": 4,
   "metadata": {},
   "outputs": [],
   "source": [
    "site = pywikibot.Site(\"wikidata\", \"wikidata\")\n",
    "repo = site.data_repository() "
   ]
  },
  {
   "cell_type": "code",
   "execution_count": 5,
   "metadata": {},
   "outputs": [],
   "source": [
    "#Incase multiple items are returned for the title, the second item in the query might be used to analyse which QID is a better fit\n",
    "\n",
    "#For this if the end user, may give additional info which they hope will be part of description or aliases then right QID may be retrieved"
   ]
  },
  {
   "cell_type": "code",
   "execution_count": 6,
   "metadata": {},
   "outputs": [],
   "source": [
    "def label_catch(query):\n",
    "    labelmatch=[]\n",
    "\n",
    "    for x in Data['query']['search']: \n",
    "        item = pywikibot.ItemPage(repo, x['title']) \n",
    "        wd_item=item.get()\n",
    "\n",
    "        try:\n",
    "            label=wd_item['labels']['en']\n",
    "            if label==query[0]:\n",
    "                labelmatch.append(x['title'])\n",
    "        except:\n",
    "            pass\n",
    "        \n",
    "    if len(labelmatch)>1:\n",
    "        adtext=input(\"Many articles found with same label, addtional key words to check description or aliases?\")\n",
    "        query.append(adtext)\n",
    "        returned=des_alais_check(query, labelmatch)\n",
    "        return labelmatch \n",
    "    \n",
    "        \n",
    "    elif len(labelmatch)==0: \n",
    "        print(\"No match found in Wikidata Connected Pages\")\n",
    "        x=unconnected(query)\n",
    "        if x==0:\n",
    "            print(\"Match not found in Unconnected pages\")\n",
    "\n",
    "    elif len(labelmatch)==1: \n",
    "        print(labelmatch[0])\n",
    "    return None"
   ]
  },
  {
   "cell_type": "code",
   "execution_count": 7,
   "metadata": {},
   "outputs": [],
   "source": [
    "'''\n",
    "query[0]-->article title/label\n",
    "\n",
    "query[1]--> In the article, if a lot of QIDs are returned then this information will help to find a better fit by studying description and aliase\n",
    "\n",
    "similar can be done for Statements or identifiers, infact specific terms for description and aliases can be separated as well\n",
    "'''\n",
    "\n",
    "def des_alais_check(query, labelmatch):\n",
    "\n",
    "\n",
    "    for qid_check in labelmatch:\n",
    "\n",
    "        item = pywikibot.ItemPage(repo, qid_check)\n",
    "        wd_item=item.get()\n",
    "        \n",
    "        try:\n",
    "\n",
    "            descriptions=wd_item['descriptions']['en']\n",
    "            x=re.findall(query[1],descriptions,flags=re.IGNORECASE)\n",
    "            #print(x)\n",
    "\n",
    "            for value in x:\n",
    "                #print(value)\n",
    "                if value.lower()==query[1].lower():\n",
    "                    print(f\"Match: {query[0]}---{value}---{qid_check}\")\n",
    "                else:\n",
    "                    print(\"Descriptions issue\")\n",
    "        except:\n",
    "            pass\n",
    "\n",
    "                #Alias check\n",
    "        else:\n",
    "            try:\n",
    "\n",
    "                alias=wd_item['aliases']['en']\n",
    "\n",
    "                for p in alias:\n",
    "                    x=re.findall(query[1],p, flags=re.IGNORECASE)\n",
    "                    #print(query[1])\n",
    "                    #print(*x)\n",
    "\n",
    "                    for value in x:\n",
    "                        if value.lower()==query[1].lower():\n",
    "                    \n",
    "                            print(f\"{query[0]}-{value}-{qid_check}\")\n",
    "                        else:\n",
    "                            print(\"Aliase issue\")\n",
    "            except:\n",
    "                pass\n",
    "    return None "
   ]
  },
  {
   "cell_type": "code",
   "execution_count": 10,
   "metadata": {},
   "outputs": [
    {
     "name": "stdout",
     "output_type": "stream",
     "text": [
      "Article Title/Label?Rama\n",
      "Many articles found with same label, addtional key words to check description or aliases?Lord\n",
      "Rama-Lord-Q160213\n"
     ]
    }
   ],
   "source": [
    "text = input(\"Article Title/Label?\")\n",
    "query=[]\n",
    "query.append(text)\n",
    "\n",
    "api = \"https://www.wikidata.org/w/api.php\"\n",
    "params = {\n",
    "    'action': 'query',\n",
    "    'list': 'search',\n",
    "    'format': 'json',\n",
    "    'srsearch': query[0],\n",
    "    'srprop': 'snippet|titlesnippet',\n",
    "    'srlimit': 100\n",
    "}\n",
    "\n",
    "r = requests.get(api, params=params)\n",
    "Data=r.json()\n",
    "\n",
    "label_match=label_catch(query)"
   ]
  },
  {
   "cell_type": "code",
   "execution_count": 9,
   "metadata": {},
   "outputs": [
    {
     "name": "stdout",
     "output_type": "stream",
     "text": [
      "['Narendra Modi']\n"
     ]
    }
   ],
   "source": [
    "print(query)"
   ]
  },
  {
   "cell_type": "code",
   "execution_count": 41,
   "metadata": {},
   "outputs": [
    {
     "name": "stdout",
     "output_type": "stream",
     "text": [
      "None\n"
     ]
    }
   ],
   "source": [
    "print(label_match)"
   ]
  },
  {
   "cell_type": "code",
   "execution_count": 43,
   "metadata": {},
   "outputs": [],
   "source": [
    "#For unconnected pages \n",
    "#https://bitbucket.org/mikepeel/wikicode/src/master/enwp_find_wikidata.py\n",
    "\n",
    "def unconnected(query):\n",
    "    enwp = pywikibot.Site('en', 'wikipedia')\n",
    "    enwd = pywikibot.Site('wikidata', 'wikidata')\n",
    "    targetcats = ['Category:Articles_without_Wikidata_item']\n",
    "\n",
    "    for targetcat in targetcats:\n",
    "        cat = pywikibot.Category(enwp, targetcat)\n",
    "        pages = enwiki.querypage('UnconnectedPages')\n",
    "        count=0\n",
    "        for page in pages:\n",
    "            if page.title()==query[0]:\n",
    "                print(f\"Match found in unconnected---->{page.title()}\")\n",
    "                count+=1\n",
    "                \n",
    "    return count"
   ]
  }
 ],
 "metadata": {
  "kernelspec": {
   "display_name": "Python 3",
   "language": "python",
   "name": "python3"
  },
  "language_info": {
   "codemirror_mode": {
    "name": "ipython",
    "version": 3
   },
   "file_extension": ".py",
   "mimetype": "text/x-python",
   "name": "python",
   "nbconvert_exporter": "python",
   "pygments_lexer": "ipython3",
   "version": "3.6.9"
  }
 },
 "nbformat": 4,
 "nbformat_minor": 4
}
