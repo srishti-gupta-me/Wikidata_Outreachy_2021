{
 "cells": [
  {
   "cell_type": "code",
   "execution_count": 1,
   "metadata": {},
   "outputs": [],
   "source": [
    "import pywikibot\n",
    "import json"
   ]
  },
  {
   "cell_type": "code",
   "execution_count": 2,
   "metadata": {},
   "outputs": [],
   "source": [
    "import pprint\n",
    "\n",
    "def prettyPrint(variable):\n",
    "    pp = pprint.PrettyPrinter(indent=4)\n",
    "    pp.pprint(variable)"
   ]
  },
  {
   "cell_type": "code",
   "execution_count": 3,
   "metadata": {},
   "outputs": [],
   "source": [
    "site = pywikibot.Site(\"wikidata\", \"wikidata\")\n",
    "repo = site.data_repository()\n",
    "\n",
    "#Working on Sandbox(Q4115189)\n",
    "item = pywikibot.ItemPage(repo, \"Q13406268\")"
   ]
  },
  {
   "cell_type": "code",
   "execution_count": 4,
   "metadata": {},
   "outputs": [
    {
     "name": "stderr",
     "output_type": "stream",
     "text": [
      "Sleeping for 9.6 seconds, 2021-05-06 22:40:37\n"
     ]
    }
   ],
   "source": [
    "#Setting claim P127:Owned by , Q50379261: Deepa Narayan\n",
    "\n",
    "owned_claim = pywikibot.Claim(repo, u'P127')\n",
    "owned_target1 = pywikibot.ItemPage(repo, u\"Q50379261\")\n",
    "owned_claim.setTarget(owned_target1)\n",
    "item.addClaim(owned_claim, summary=u'Adding claim P127-Q50379261')"
   ]
  },
  {
   "cell_type": "code",
   "execution_count": 5,
   "metadata": {},
   "outputs": [
    {
     "name": "stderr",
     "output_type": "stream",
     "text": [
      "Sleeping for 7.7 seconds, 2021-05-06 22:40:49\n"
     ]
    }
   ],
   "source": [
    "#If a Property already exist in the Wiki Data Item, the Q value is appended in the list \n",
    "\n",
    "owned_claim = pywikibot.Claim(repo, u'P127')\n",
    "owned_target2 = pywikibot.ItemPage(repo, u\"Q350\")\n",
    "owned_claim.setTarget(owned_target2)\n",
    "item.addClaim(owned_claim, summary=u'Adding claim P127-Q350')"
   ]
  },
  {
   "cell_type": "code",
   "execution_count": 6,
   "metadata": {},
   "outputs": [
    {
     "name": "stderr",
     "output_type": "stream",
     "text": [
      "Sleeping for 7.5 seconds, 2021-05-06 22:40:59\n"
     ]
    }
   ],
   "source": [
    "'''https://www.wikidata.org/wiki/Wikidata:Creating_a_bot  Here I learned how to add Coordinate and learned that there\n",
    "might exist classes for different kind of datavalue/datatypes. I found date as a property for another article and found \n",
    "that for P585(point in time) the corresponding date has datatype:date. From using help(pywikibot.Coordinate) I learned it \n",
    "is a derived class of pywikibot._wbtypes.WbRepresentation, which is derived class pywikibot._wbtypes. I searched and found \n",
    "the documentation page https://doc.wikimedia.org/pywikibot/master/_modules/pywikibot.html  that a WbTime can be used to \n",
    "incorporate time and date''' \n",
    "\n",
    "#Setting claim date P585:9 Oct 2020\n",
    "date_claim = pywikibot.Claim(repo, u'P585')\n",
    "date_target = pywikibot.WbTime(year=2020,month=10,day=9,site=site)\n",
    "date_claim.setTarget(date_target)\n",
    "item.addClaim(date_claim, summary=u'Adding date claim')"
   ]
  },
  {
   "cell_type": "code",
   "execution_count": 7,
   "metadata": {
    "scrolled": true
   },
   "outputs": [
    {
     "name": "stderr",
     "output_type": "stream",
     "text": [
      "Sleeping for 7.7 seconds, 2021-05-06 22:41:09\n"
     ]
    }
   ],
   "source": [
    "\n",
    "#Adding image P18: https://commons.wikimedia.org/wiki/File:Royal_Wedding_Stockholm_2010-Slottsbacken-05_edit.jpg\n",
    "\n",
    "image_claim = pywikibot.Claim(repo, u'P18')\n",
    "image_target = pywikibot.FilePage(repo, title=\"File:Royal Wedding Stockholm 2010-Slottsbacken-05 edit.jpg\")\n",
    "image_claim.setTarget(image_target)\n",
    "item.addClaim(image_claim, summary=u'Adding string claim')"
   ]
  },
  {
   "cell_type": "code",
   "execution_count": 8,
   "metadata": {},
   "outputs": [
    {
     "name": "stderr",
     "output_type": "stream",
     "text": [
      "Sleeping for 5.0 seconds, 2021-05-06 22:41:22\n"
     ]
    }
   ],
   "source": [
    "'''\n",
    "\n",
    "adding Numercial Id\n",
    "here I learnt that P646 was added to Identifiers section on the page automatically, and not under statements this indicates\n",
    "that constraints are specified on the P numbers. \n",
    "\n",
    "Identifiers and Qualifiers are part of Claim class. \n",
    "'''\n",
    "\n",
    "Identifiersclaim = pywikibot.Claim(repo, u'P646')\n",
    "Identifiersclaim.setTarget(u'https://www.google.com/search?kgmid=/m/0c429_r')\n",
    "item.addClaim(Identifiersclaim, summary=u'Adding Freebase ID')"
   ]
  },
  {
   "cell_type": "code",
   "execution_count": 9,
   "metadata": {},
   "outputs": [
    {
     "name": "stderr",
     "output_type": "stream",
     "text": [
      "Sleeping for 7.8 seconds, 2021-05-06 22:41:29\n"
     ]
    }
   ],
   "source": [
    "'''Adding qualifiers\n",
    "\n",
    "Incase of qualifier addQualifier function is used instead of addClaim. Also the 'item' is replaced with 'image_claim' to which \n",
    "qualifiers is to be added'''\n",
    "\n",
    "qualifiertoimage = pywikibot.Claim(repo, u'P642')\n",
    "qualifier_target = pywikibot.ItemPage(repo, u\"Q156390\")\n",
    "\n",
    "qualifiertoimage.setTarget(qualifier_target)\n",
    "\n",
    "image_claim.addQualifier(qualifiertoimage, summary=u'Adding a qualifier.')\n"
   ]
  },
  {
   "cell_type": "code",
   "execution_count": 10,
   "metadata": {},
   "outputs": [
    {
     "name": "stderr",
     "output_type": "stream",
     "text": [
      "WARNING: /srv/paws/lib/python3.6/site-packages/ipykernel_launcher.py:4: DeprecationWarning: isReference argument of pywikibot.page.Claim.__init__ is deprecated; use is_reference instead.\n",
      "  after removing the cwd from sys.path.\n",
      "\n",
      "Sleeping for 8.0 seconds, 2021-05-06 22:41:39\n"
     ]
    }
   ],
   "source": [
    "'''\n",
    "Adding reference'''\n",
    "\n",
    "retrieved = pywikibot.Claim(repo, u'P813', isReference=True)\n",
    "date = pywikibot.WbTime(year=2014, month=3, day=20, site=site)\n",
    "retrieved.setTarget(date)\n",
    "image_claim.addSources([retrieved], summary=u'Adding sources.')"
   ]
  },
  {
   "cell_type": "code",
   "execution_count": 11,
   "metadata": {},
   "outputs": [],
   "source": [
    "\n",
    "\n",
    "#Adding source to existing Property and QID \n",
    "#Firstly I need the Claim object\n",
    "#https://github.com/arthurpsmith/wikidata-tools/blob/master/APSbot/APSbot_nuclide_decays.py\n",
    "#https://phabricator.wikimedia.org/T179409\n",
    "\n",
    "def get_claim(item, prop, target):\n",
    "    \"\"\"\n",
    "    Requires a property, item, and list of qualifier properties and items.\n",
    "    Returns claim that matches or None.\n",
    "    \"\"\"\n",
    "    item_dict = item.get()\n",
    "    \n",
    "    try:\n",
    "        claims = item_dict['claims'][prop]\n",
    "    except:\n",
    "        return None\n",
    "\n",
    "    for claim in claims:\n",
    "        if target is None:  # find claims with 'unknown' target\n",
    "            if not claim.getSnakType() == 'somevalue':\n",
    "                return claim\n",
    "                \n",
    "        elif claim.target_equals(target):\n",
    "            return claim\n",
    "        \n",
    "        else:\n",
    "            continue\n",
    "        \n",
    "    return None"
   ]
  },
  {
   "cell_type": "code",
   "execution_count": 12,
   "metadata": {},
   "outputs": [
    {
     "name": "stdout",
     "output_type": "stream",
     "text": [
      "<class 'pywikibot.page.Claim'>\n",
      "<class 'pywikibot.page.ItemPage'>\n"
     ]
    }
   ],
   "source": [
    "item = pywikibot.ItemPage(repo, \"Q4115189\")\n",
    "pre_claim=get_claim(item,'P127',None)\n",
    "\n",
    "print(type(pre_claim))\n",
    "\n",
    "print(type(pre_claim.getTarget()))\n",
    "\n",
    "#Addind reference to pre-existing property\n",
    "retrieved = pywikibot.Claim(repo, u'P642', is_reference=True)\n",
    "retrieved.setTarget(qualifier_target)\n",
    "\n",
    "pre_claim.addSources([retrieved], summary=u'Adding sources.')"
   ]
  },
  {
   "cell_type": "code",
   "execution_count": null,
   "metadata": {},
   "outputs": [],
   "source": []
  }
 ],
 "metadata": {
  "kernelspec": {
   "display_name": "Python 3",
   "language": "python",
   "name": "python3"
  },
  "language_info": {
   "codemirror_mode": {
    "name": "ipython",
    "version": 3
   },
   "file_extension": ".py",
   "mimetype": "text/x-python",
   "name": "python",
   "nbconvert_exporter": "python",
   "pygments_lexer": "ipython3",
   "version": "3.6.9"
  }
 },
 "nbformat": 4,
 "nbformat_minor": 4
}
